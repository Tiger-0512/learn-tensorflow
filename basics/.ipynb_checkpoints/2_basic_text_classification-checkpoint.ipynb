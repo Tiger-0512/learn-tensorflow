{
 "cells": [
  {
   "cell_type": "markdown",
   "id": "a6ee344d-7424-4019-827e-2a976833a51d",
   "metadata": {},
   "source": [
    "# 映画レビューのテキスト分類\n",
    "https://www.tensorflow.org/tutorials/keras/text_classification"
   ]
  },
  {
   "cell_type": "code",
   "execution_count": 2,
   "id": "ac162de7-b945-4338-b7e7-4400121c7c0c",
   "metadata": {},
   "outputs": [
    {
     "name": "stdout",
     "output_type": "stream",
     "text": [
      "2.6.0\n"
     ]
    }
   ],
   "source": [
    "import matplotlib.pyplot as plt\n",
    "import numpy as np\n",
    "import tensorflow as tf\n",
    "from tensorflow import keras\n",
    "\n",
    "print(tf.__version__)"
   ]
  },
  {
   "cell_type": "code",
   "execution_count": 3,
   "id": "d508df50-da3a-44cb-a340-073a4092cfaf",
   "metadata": {},
   "outputs": [
    {
     "name": "stdout",
     "output_type": "stream",
     "text": [
      "Downloading data from https://storage.googleapis.com/tensorflow/tf-keras-datasets/imdb.npz\n",
      "17465344/17464789 [==============================] - 1s 0us/step\n",
      "17473536/17464789 [==============================] - 1s 0us/step\n"
     ]
    }
   ],
   "source": [
    "imdb = keras.datasets.imdb\n",
    "\n",
    "(train_data, train_labels), (test_data, test_labels) = imdb.load_data(num_words=10000)"
   ]
  },
  {
   "cell_type": "code",
   "execution_count": 4,
   "id": "13ae9b5c-2654-49b5-b933-d388fbd6074f",
   "metadata": {},
   "outputs": [
    {
     "name": "stdout",
     "output_type": "stream",
     "text": [
      "Training entries: 25000, labels: 25000\n"
     ]
    }
   ],
   "source": [
    "print(\"Training entries: {}, labels: {}\".format(len(train_data), len(train_labels)))"
   ]
  },
  {
   "cell_type": "code",
   "execution_count": 5,
   "id": "ebfa02a8-37cc-41ba-8e0f-1fdb95e87856",
   "metadata": {},
   "outputs": [
    {
     "name": "stdout",
     "output_type": "stream",
     "text": [
      "[1, 14, 22, 16, 43, 530, 973, 1622, 1385, 65, 458, 4468, 66, 3941, 4, 173, 36, 256, 5, 25, 100, 43, 838, 112, 50, 670, 2, 9, 35, 480, 284, 5, 150, 4, 172, 112, 167, 2, 336, 385, 39, 4, 172, 4536, 1111, 17, 546, 38, 13, 447, 4, 192, 50, 16, 6, 147, 2025, 19, 14, 22, 4, 1920, 4613, 469, 4, 22, 71, 87, 12, 16, 43, 530, 38, 76, 15, 13, 1247, 4, 22, 17, 515, 17, 12, 16, 626, 18, 2, 5, 62, 386, 12, 8, 316, 8, 106, 5, 4, 2223, 5244, 16, 480, 66, 3785, 33, 4, 130, 12, 16, 38, 619, 5, 25, 124, 51, 36, 135, 48, 25, 1415, 33, 6, 22, 12, 215, 28, 77, 52, 5, 14, 407, 16, 82, 2, 8, 4, 107, 117, 5952, 15, 256, 4, 2, 7, 3766, 5, 723, 36, 71, 43, 530, 476, 26, 400, 317, 46, 7, 4, 2, 1029, 13, 104, 88, 4, 381, 15, 297, 98, 32, 2071, 56, 26, 141, 6, 194, 7486, 18, 4, 226, 22, 21, 134, 476, 26, 480, 5, 144, 30, 5535, 18, 51, 36, 28, 224, 92, 25, 104, 4, 226, 65, 16, 38, 1334, 88, 12, 16, 283, 5, 16, 4472, 113, 103, 32, 15, 16, 5345, 19, 178, 32]\n"
     ]
    }
   ],
   "source": [
    "print(train_data[0])"
   ]
  },
  {
   "cell_type": "code",
   "execution_count": 6,
   "id": "f1ef8e03-8e0a-43f6-83be-8869cc8fee1d",
   "metadata": {},
   "outputs": [
    {
     "name": "stdout",
     "output_type": "stream",
     "text": [
      "Downloading data from https://storage.googleapis.com/tensorflow/tf-keras-datasets/imdb_word_index.json\n",
      "1646592/1641221 [==============================] - 0s 0us/step\n",
      "1654784/1641221 [==============================] - 0s 0us/step\n"
     ]
    }
   ],
   "source": [
    "word_index = imdb.get_word_index()\n",
    "\n",
    "word_index = {k: (v + 3) for k, v in word_index.items()}\n",
    "word_index[\"<PAD>\"] = 0\n",
    "word_index[\"<START>\"] = 1\n",
    "word_index[\"<UNK>\"] = 2  # unknown\n",
    "word_index[\"<UNUSED>\"] = 3\n",
    "\n",
    "reverse_word_index = dict([(value, key) for (key, value) in word_index.items()])\n",
    "\n",
    "\n",
    "def decode_review(text):\n",
    "    return \" \".join([reverse_word_index.get(i, \"?\") for i in text])"
   ]
  },
  {
   "cell_type": "code",
   "execution_count": 7,
   "id": "57add8fe-df6b-4977-88d9-11700add59e4",
   "metadata": {},
   "outputs": [
    {
     "data": {
      "text/plain": [
       "\"<START> this film was just brilliant casting location scenery story direction everyone's really suited the part they played and you could just imagine being there robert <UNK> is an amazing actor and now the same being director <UNK> father came from the same scottish island as myself so i loved the fact there was a real connection with this film the witty remarks throughout the film were great it was just brilliant so much that i bought the film as soon as it was released for <UNK> and would recommend it to everyone to watch and the fly fishing was amazing really cried at the end it was so sad and you know what they say if you cry at a film it must have been good and this definitely was also <UNK> to the two little boy's that played the <UNK> of norman and paul they were just brilliant children are often left out of the <UNK> list i think because the stars that play them all grown up are such a big profile for the whole film but these children are amazing and should be praised for what they have done don't you think the whole story was so lovely because it was true and was someone's life after all that was shared with us all\""
      ]
     },
     "execution_count": 7,
     "metadata": {},
     "output_type": "execute_result"
    }
   ],
   "source": [
    "decode_review(train_data[0])"
   ]
  },
  {
   "cell_type": "code",
   "execution_count": 8,
   "id": "4a7e9abd-2030-45bc-b59a-e05df87cc40a",
   "metadata": {},
   "outputs": [],
   "source": [
    "train_data = keras.preprocessing.sequence.pad_sequences(\n",
    "    train_data, value=word_index[\"<PAD>\"], padding=\"post\", maxlen=256\n",
    ")\n",
    "test_data = keras.preprocessing.sequence.pad_sequences(\n",
    "    test_data, value=word_index[\"<PAD>\"], padding=\"post\", maxlen=256\n",
    ")"
   ]
  },
  {
   "cell_type": "code",
   "execution_count": 14,
   "id": "1ea9f463-4386-42f0-8b3f-70e988df2c6d",
   "metadata": {},
   "outputs": [
    {
     "name": "stdout",
     "output_type": "stream",
     "text": [
      "[   1   14   22   16   43  530  973 1622 1385   65  458 4468   66 3941\n",
      "    4  173   36  256    5   25  100   43  838  112   50  670    2    9\n",
      "   35  480  284    5  150    4  172  112  167    2  336  385   39    4\n",
      "  172 4536 1111   17  546   38   13  447    4  192   50   16    6  147\n",
      " 2025   19   14   22    4 1920 4613  469    4   22   71   87   12   16\n",
      "   43  530   38   76   15   13 1247    4   22   17  515   17   12   16\n",
      "  626   18    2    5   62  386   12    8  316    8  106    5    4 2223\n",
      " 5244   16  480   66 3785   33    4  130   12   16   38  619    5   25\n",
      "  124   51   36  135   48   25 1415   33    6   22   12  215   28   77\n",
      "   52    5   14  407   16   82    2    8    4  107  117 5952   15  256\n",
      "    4    2    7 3766    5  723   36   71   43  530  476   26  400  317\n",
      "   46    7    4    2 1029   13  104   88    4  381   15  297   98   32\n",
      " 2071   56   26  141    6  194 7486   18    4  226   22   21  134  476\n",
      "   26  480    5  144   30 5535   18   51   36   28  224   92   25  104\n",
      "    4  226   65   16   38 1334   88   12   16  283    5   16 4472  113\n",
      "  103   32   15   16 5345   19  178   32    0    0    0    0    0    0\n",
      "    0    0    0    0    0    0    0    0    0    0    0    0    0    0\n",
      "    0    0    0    0    0    0    0    0    0    0    0    0    0    0\n",
      "    0    0    0    0] 256\n"
     ]
    }
   ],
   "source": [
    "print(train_data[0], len(train_data[0]))"
   ]
  },
  {
   "cell_type": "code",
   "execution_count": 16,
   "id": "9f3ab306-8d6e-4707-b81d-c5d2473c7c0b",
   "metadata": {},
   "outputs": [
    {
     "name": "stdout",
     "output_type": "stream",
     "text": [
      "Model: \"sequential_1\"\n",
      "_________________________________________________________________\n",
      "Layer (type)                 Output Shape              Param #   \n",
      "=================================================================\n",
      "embedding_1 (Embedding)      (None, None, 16)          160000    \n",
      "_________________________________________________________________\n",
      "global_average_pooling1d_1 ( (None, 16)                0         \n",
      "_________________________________________________________________\n",
      "dense_2 (Dense)              (None, 16)                272       \n",
      "_________________________________________________________________\n",
      "dense_3 (Dense)              (None, 1)                 17        \n",
      "=================================================================\n",
      "Total params: 160,289\n",
      "Trainable params: 160,289\n",
      "Non-trainable params: 0\n",
      "_________________________________________________________________\n"
     ]
    }
   ],
   "source": [
    "vocab_size = 10000\n",
    "\n",
    "model = keras.Sequential()\n",
    "model.add(keras.layers.Embedding(vocab_size, 16))\n",
    "model.add(keras.layers.GlobalAveragePooling1D())\n",
    "model.add(keras.layers.Dense(16, activation=\"relu\"))\n",
    "model.add(keras.layers.Dense(1, activation=\"sigmoid\"))\n",
    "\n",
    "model.summary()"
   ]
  },
  {
   "cell_type": "code",
   "execution_count": 18,
   "id": "8c1cdebe-4ffc-4c52-9616-a451a6b21999",
   "metadata": {},
   "outputs": [],
   "source": [
    "model.compile(optimizer=\"adam\", loss=\"binary_crossentropy\", metrics=[\"accuracy\"])"
   ]
  },
  {
   "cell_type": "code",
   "execution_count": 19,
   "id": "9dd7cfb1-afe4-4e8d-8b7b-6ccd4a922996",
   "metadata": {},
   "outputs": [],
   "source": [
    "x_val, y_val = train_data[:10000], train_labels[:10000]\n",
    "partial_x_train, partial_y_train = train_data[10000:], train_labels[10000:]"
   ]
  },
  {
   "cell_type": "code",
   "execution_count": 20,
   "id": "6f51dd12-bd40-4f34-b8ae-7280c21cdb0f",
   "metadata": {
    "scrolled": true,
    "tags": []
   },
   "outputs": [
    {
     "name": "stdout",
     "output_type": "stream",
     "text": [
      "Epoch 1/40\n",
      "30/30 [==============================] - 1s 15ms/step - loss: 0.6917 - accuracy: 0.5740 - val_loss: 0.6896 - val_accuracy: 0.6794\n",
      "Epoch 2/40\n",
      "30/30 [==============================] - 0s 11ms/step - loss: 0.6857 - accuracy: 0.6853 - val_loss: 0.6809 - val_accuracy: 0.6748\n",
      "Epoch 3/40\n",
      "30/30 [==============================] - 0s 11ms/step - loss: 0.6723 - accuracy: 0.6901 - val_loss: 0.6634 - val_accuracy: 0.7180\n",
      "Epoch 4/40\n",
      "30/30 [==============================] - 0s 11ms/step - loss: 0.6483 - accuracy: 0.7443 - val_loss: 0.6364 - val_accuracy: 0.7160\n",
      "Epoch 5/40\n",
      "30/30 [==============================] - 0s 11ms/step - loss: 0.6140 - accuracy: 0.7689 - val_loss: 0.6010 - val_accuracy: 0.7869\n",
      "Epoch 6/40\n",
      "30/30 [==============================] - 0s 11ms/step - loss: 0.5719 - accuracy: 0.8086 - val_loss: 0.5596 - val_accuracy: 0.8075\n",
      "Epoch 7/40\n",
      "30/30 [==============================] - 0s 11ms/step - loss: 0.5249 - accuracy: 0.8373 - val_loss: 0.5164 - val_accuracy: 0.8255\n",
      "Epoch 8/40\n",
      "30/30 [==============================] - 0s 10ms/step - loss: 0.4775 - accuracy: 0.8570 - val_loss: 0.4749 - val_accuracy: 0.8411\n",
      "Epoch 9/40\n",
      "30/30 [==============================] - 0s 11ms/step - loss: 0.4330 - accuracy: 0.8693 - val_loss: 0.4387 - val_accuracy: 0.8492\n",
      "Epoch 10/40\n",
      "30/30 [==============================] - 0s 11ms/step - loss: 0.3942 - accuracy: 0.8773 - val_loss: 0.4089 - val_accuracy: 0.8553\n",
      "Epoch 11/40\n",
      "30/30 [==============================] - 0s 11ms/step - loss: 0.3606 - accuracy: 0.8879 - val_loss: 0.3823 - val_accuracy: 0.8637\n",
      "Epoch 12/40\n",
      "30/30 [==============================] - 0s 12ms/step - loss: 0.3320 - accuracy: 0.8951 - val_loss: 0.3619 - val_accuracy: 0.8689\n",
      "Epoch 13/40\n",
      "30/30 [==============================] - 0s 11ms/step - loss: 0.3077 - accuracy: 0.9005 - val_loss: 0.3457 - val_accuracy: 0.8695\n",
      "Epoch 14/40\n",
      "30/30 [==============================] - 0s 11ms/step - loss: 0.2874 - accuracy: 0.9042 - val_loss: 0.3325 - val_accuracy: 0.8748\n",
      "Epoch 15/40\n",
      "30/30 [==============================] - 0s 12ms/step - loss: 0.2691 - accuracy: 0.9101 - val_loss: 0.3215 - val_accuracy: 0.8761\n",
      "Epoch 16/40\n",
      "30/30 [==============================] - 0s 12ms/step - loss: 0.2531 - accuracy: 0.9149 - val_loss: 0.3127 - val_accuracy: 0.8797\n",
      "Epoch 17/40\n",
      "30/30 [==============================] - 0s 11ms/step - loss: 0.2389 - accuracy: 0.9204 - val_loss: 0.3055 - val_accuracy: 0.8804\n",
      "Epoch 18/40\n",
      "30/30 [==============================] - 0s 11ms/step - loss: 0.2261 - accuracy: 0.9241 - val_loss: 0.3004 - val_accuracy: 0.8802\n",
      "Epoch 19/40\n",
      "30/30 [==============================] - 0s 11ms/step - loss: 0.2146 - accuracy: 0.9276 - val_loss: 0.2952 - val_accuracy: 0.8822\n",
      "Epoch 20/40\n",
      "30/30 [==============================] - 0s 11ms/step - loss: 0.2038 - accuracy: 0.9319 - val_loss: 0.2915 - val_accuracy: 0.8834\n",
      "Epoch 21/40\n",
      "30/30 [==============================] - 0s 11ms/step - loss: 0.1941 - accuracy: 0.9362 - val_loss: 0.2887 - val_accuracy: 0.8839\n",
      "Epoch 22/40\n",
      "30/30 [==============================] - 0s 11ms/step - loss: 0.1851 - accuracy: 0.9392 - val_loss: 0.2869 - val_accuracy: 0.8839\n",
      "Epoch 23/40\n",
      "30/30 [==============================] - 0s 11ms/step - loss: 0.1766 - accuracy: 0.9437 - val_loss: 0.2853 - val_accuracy: 0.8845\n",
      "Epoch 24/40\n",
      "30/30 [==============================] - 0s 11ms/step - loss: 0.1687 - accuracy: 0.9465 - val_loss: 0.2841 - val_accuracy: 0.8852\n",
      "Epoch 25/40\n",
      "30/30 [==============================] - 0s 11ms/step - loss: 0.1615 - accuracy: 0.9499 - val_loss: 0.2847 - val_accuracy: 0.8861\n",
      "Epoch 26/40\n",
      "30/30 [==============================] - 0s 11ms/step - loss: 0.1542 - accuracy: 0.9524 - val_loss: 0.2839 - val_accuracy: 0.8852\n",
      "Epoch 27/40\n",
      "30/30 [==============================] - 0s 11ms/step - loss: 0.1474 - accuracy: 0.9552 - val_loss: 0.2844 - val_accuracy: 0.8853\n",
      "Epoch 28/40\n",
      "30/30 [==============================] - 0s 12ms/step - loss: 0.1407 - accuracy: 0.9582 - val_loss: 0.2854 - val_accuracy: 0.8861\n",
      "Epoch 29/40\n",
      "30/30 [==============================] - 0s 11ms/step - loss: 0.1355 - accuracy: 0.9603 - val_loss: 0.2870 - val_accuracy: 0.8845\n",
      "Epoch 30/40\n",
      "30/30 [==============================] - 0s 11ms/step - loss: 0.1298 - accuracy: 0.9613 - val_loss: 0.2888 - val_accuracy: 0.8859\n",
      "Epoch 31/40\n",
      "30/30 [==============================] - 0s 11ms/step - loss: 0.1236 - accuracy: 0.9655 - val_loss: 0.2917 - val_accuracy: 0.8860\n",
      "Epoch 32/40\n",
      "30/30 [==============================] - 0s 11ms/step - loss: 0.1185 - accuracy: 0.9674 - val_loss: 0.2926 - val_accuracy: 0.8843\n",
      "Epoch 33/40\n",
      "30/30 [==============================] - 0s 11ms/step - loss: 0.1136 - accuracy: 0.9691 - val_loss: 0.2959 - val_accuracy: 0.8846\n",
      "Epoch 34/40\n",
      "30/30 [==============================] - 0s 11ms/step - loss: 0.1093 - accuracy: 0.9703 - val_loss: 0.2978 - val_accuracy: 0.8852\n",
      "Epoch 35/40\n",
      "30/30 [==============================] - 0s 11ms/step - loss: 0.1048 - accuracy: 0.9714 - val_loss: 0.3006 - val_accuracy: 0.8846\n",
      "Epoch 36/40\n",
      "30/30 [==============================] - 0s 11ms/step - loss: 0.1005 - accuracy: 0.9737 - val_loss: 0.3043 - val_accuracy: 0.8836\n",
      "Epoch 37/40\n",
      "30/30 [==============================] - 0s 11ms/step - loss: 0.0966 - accuracy: 0.9747 - val_loss: 0.3069 - val_accuracy: 0.8841\n",
      "Epoch 38/40\n",
      "30/30 [==============================] - 0s 11ms/step - loss: 0.0933 - accuracy: 0.9769 - val_loss: 0.3113 - val_accuracy: 0.8817\n",
      "Epoch 39/40\n",
      "30/30 [==============================] - 0s 11ms/step - loss: 0.0892 - accuracy: 0.9796 - val_loss: 0.3155 - val_accuracy: 0.8806\n",
      "Epoch 40/40\n",
      "30/30 [==============================] - 0s 11ms/step - loss: 0.0860 - accuracy: 0.9797 - val_loss: 0.3175 - val_accuracy: 0.8821\n"
     ]
    }
   ],
   "source": [
    "history = model.fit(\n",
    "    partial_x_train,\n",
    "    partial_y_train,\n",
    "    epochs=40,\n",
    "    batch_size=512,\n",
    "    validation_data=(x_val, y_val),\n",
    "    verbose=1,\n",
    ")"
   ]
  },
  {
   "cell_type": "code",
   "execution_count": 21,
   "id": "7357ea6a-eff8-4254-8c65-8f089525919e",
   "metadata": {},
   "outputs": [
    {
     "name": "stdout",
     "output_type": "stream",
     "text": [
      "782/782 - 1s - loss: 0.3390 - accuracy: 0.8724\n",
      "[0.33899152278900146, 0.8723999857902527]\n"
     ]
    }
   ],
   "source": [
    "results = model.evaluate(test_data, test_labels, verbose=2)\n",
    "\n",
    "print(results)"
   ]
  },
  {
   "cell_type": "code",
   "execution_count": 22,
   "id": "0ab3ef12-6889-42c2-9ebe-cf2f605e6f11",
   "metadata": {},
   "outputs": [
    {
     "data": {
      "text/plain": [
       "dict_keys(['loss', 'accuracy', 'val_loss', 'val_accuracy'])"
      ]
     },
     "execution_count": 22,
     "metadata": {},
     "output_type": "execute_result"
    }
   ],
   "source": [
    "history_dict = history.history\n",
    "history_dict.keys()"
   ]
  },
  {
   "cell_type": "code",
   "execution_count": 23,
   "id": "e43cf286-ee16-440e-85a1-275a9c0bdfb4",
   "metadata": {},
   "outputs": [
    {
     "data": {
      "image/png": "[encoded data removed]",
      "text/plain": [
       "<Figure size 432x288 with 1 Axes>"
      ]
     },
     "metadata": {
      "needs_background": "light"
     },
     "output_type": "display_data"
    }
   ],
   "source": [
    "acc = history_dict[\"accuracy\"]\n",
    "val_acc = history_dict[\"val_accuracy\"]\n",
    "loss = history_dict[\"loss\"]\n",
    "val_loss = history_dict[\"val_loss\"]\n",
    "\n",
    "epochs = range(1, len(acc) + 1)\n",
    "\n",
    "plt.plot(epochs, loss, \"bo\", label=\"Training loss\")\n",
    "plt.plot(epochs, val_loss, \"b\", label=\"Validation loss\")\n",
    "plt.title(\"Training and validation loss\")\n",
    "plt.xlabel(\"Epochs\")\n",
    "plt.ylabel(\"Loss\")\n",
    "plt.legend()\n",
    "\n",
    "plt.show()"
   ]
  },
  {
   "cell_type": "code",
   "execution_count": 24,
   "id": "79eb86a6-80a1-4f67-b066-0f0c0c82643c",
   "metadata": {},
   "outputs": [
    {
     "data": {
      "image/png": "[encoded data removed]",
      "text/plain": [
       "<Figure size 432x288 with 1 Axes>"
      ]
     },
     "metadata": {
      "needs_background": "light"
     },
     "output_type": "display_data"
    }
   ],
   "source": [
    "plt.clf()\n",
    "\n",
    "plt.plot(epochs, acc, 'bo', label='Training acc')\n",
    "plt.plot(epochs, val_acc, 'b', label='Validation acc')\n",
    "plt.title('Training and validation accuracy')\n",
    "plt.xlabel('Epochs')\n",
    "plt.ylabel('Accuracy')\n",
    "plt.legend()\n",
    "\n",
    "plt.show()"
   ]
  },
  {
   "cell_type": "code",
   "execution_count": null,
   "id": "515b1df6-bb04-413b-826a-f51a80c66fe3",
   "metadata": {},
   "outputs": [],
   "source": []
  }
 ],
 "metadata": {
  "kernelspec": {
   "display_name": "Python 3",
   "language": "python",
   "name": "python3"
  },
  "language_info": {
   "codemirror_mode": {
    "name": "ipython",
    "version": 3
   },
   "file_extension": ".py",
   "mimetype": "text/x-python",
   "name": "python",
   "nbconvert_exporter": "python",
   "pygments_lexer": "ipython3",
   "version": "3.8.5"
  }
 },
 "nbformat": 4,
 "nbformat_minor": 5
}
